{
 "cells": [
  {
   "cell_type": "code",
   "execution_count": null,
   "metadata": {},
   "outputs": [],
   "source": [
    "l1=[1,2,3]\n",
    "l2=[4,5,6]\n",
    "l3=l1+l2\n",
    "total =[]"
   ]
  },
  {
   "cell_type": "markdown",
   "metadata": {},
   "source": []
  },
  {
   "cell_type": "code",
   "execution_count": null,
   "metadata": {},
   "outputs": [],
   "source": []
  },
  {
   "cell_type": "raw",
   "metadata": {},
   "source": []
  },
  {
   "cell_type": "code",
   "execution_count": null,
   "metadata": {},
   "outputs": [],
   "source": [
    "for j in range(3):\n",
    "    total.append( l1[j] + l2[j])\n",
    " \n",
    "print(\"\\nThe total Sum of Two Lists =  \", total)\n"
   ]
  },
  {
   "cell_type": "code",
   "execution_count": null,
   "metadata": {},
   "outputs": [],
   "source": [
    "\n",
    "    \n",
    "def addition(num1,num2):\n",
    "    num1 = num1+num2\n",
    "    return num1\n",
    "def subtraction(num1,num2):\n",
    "    num1 = num1-num2\n",
    "    return num1\n",
    "def mul(num1,num2):\n",
    "    num1 *= num2\n",
    "    return num1\n",
    "def division(num1,num2):\n",
    "    num1 /= num2\n",
    "    return num1\n",
    "\n",
    "\n",
    "def default(num1,num2):\n",
    "    return \"Incorrect entry\"\n",
    "def calculator(num1,num2,option):\n",
    "    if (option==1):\n",
    "        return addition(num1,num2)\n",
    "    elif (option==2):\n",
    "        return subtraction(num1,num2)\n",
    "    elif(option==3):\n",
    "        return mul(num1,num2)\n",
    "    else:\n",
    "        return division(num1,num2)\n",
    "    \n",
    "\n",
    "    "
   ]
  },
  {
   "cell_type": "code",
   "execution_count": null,
   "metadata": {},
   "outputs": [],
   "source": [
    "\n",
    "var1 = int(input(\"input1\"))\n",
    "var2 = int(input(\"input2\"))\n",
    "choice =int(input(\"enter ur choice 1. addition 2.subtraction 3 multiplication 4 division\"))\n",
    "print(calculator(var1,var2,choice))\n"
   ]
  },
  {
   "cell_type": "code",
   "execution_count": null,
   "metadata": {},
   "outputs": [],
   "source": [
    "\n",
    "def bubble_sort(l1):  \n",
    "\n",
    "    for i in range(0,len(l1)-1):  \n",
    "        for j in range(len(l1)-1):  \n",
    "            if(l1[j]>l1[j+1]):  \n",
    "                temp = l1[j]  \n",
    "                l1[j] = l1[j+1]  \n",
    "                l1[j+1] = temp  \n",
    "    return l1  \n",
    "  \n",
    "l1 = [5, 3, 8, 6, 7, 2]  \n",
    "print(len(l1))\n",
    "print(\"The unsorted list is: \", list1)   \n",
    "print(\"The sorted list is: \", bubble_sort(list1)) "
   ]
  },
  {
   "cell_type": "code",
   "execution_count": null,
   "metadata": {},
   "outputs": [],
   "source": [
    "def mean(list):\n",
    "    total=0\n",
    "    for i in range(0,len(list)):\n",
    "        total+=list[i]\n",
    "    return int(total/2)\n",
    "def median(list):\n",
    "    for i in range(0,len(list)-1):  \n",
    "        for j in range(len(list)-1):  \n",
    "            if(list[j]>list[j+1]):  \n",
    "                temp = list[j]  \n",
    "                list[j] = list[j+1]  \n",
    "                list[j+1] = temp \n",
    "    return list[int(len(list)/2)]   \n",
    "def mode(list):\n",
    "    var= int(input(\"enter the number\"))\n",
    "    count=0\n",
    "    for i in range(0,len(list)-1):\n",
    "        if (var==list[i]):\n",
    "            count =count+1\n",
    "    return count        \n",
    "def calculate(list,var):\n",
    "    if (var==1):\n",
    "        return  mean(list)\n",
    "    elif (var==2):\n",
    "        return mode(list)\n",
    "    else:\n",
    "        return median(list)\n",
    "       \n",
    "        \n",
    "    "
   ]
  },
  {
   "cell_type": "code",
   "execution_count": null,
   "metadata": {},
   "outputs": [],
   "source": [
    "list =[5,3,4,7,8,2,10,11,6,6,2]\n",
    "var =int(input(\"1.mean 2 mode 3 median\"))\n",
    "print(calculate(list,var))\n"
   ]
  },
  {
   "cell_type": "code",
   "execution_count": null,
   "metadata": {},
   "outputs": [],
   "source": []
  }
 ],
 "metadata": {
  "kernelspec": {
   "display_name": "Python 3",
   "language": "python",
   "name": "python3"
  },
  "language_info": {
   "codemirror_mode": {
    "name": "ipython",
    "version": 3
   },
   "file_extension": ".py",
   "mimetype": "text/x-python",
   "name": "python",
   "nbconvert_exporter": "python",
   "pygments_lexer": "ipython3",
   "version": "3.8.5"
  }
 },
 "nbformat": 4,
 "nbformat_minor": 4
}
