{
 "cells": [
  {
   "cell_type": "code",
   "execution_count": 1,
   "metadata": {},
   "outputs": [],
   "source": [
    "n1=[21,45,67,34,98,89]\n"
   ]
  },
  {
   "cell_type": "code",
   "execution_count": 2,
   "metadata": {},
   "outputs": [],
   "source": [
    "def meannum(lis):\n",
    "    k=0\n",
    "    for i in range(len(lis)):\n",
    "        k+=lis[i]\n",
    "        avg=k/len(lis)\n",
    "        return avg"
   ]
  },
  {
   "cell_type": "code",
   "execution_count": 3,
   "metadata": {},
   "outputs": [
    {
     "data": {
      "text/plain": [
       "3.5"
      ]
     },
     "execution_count": 3,
     "metadata": {},
     "output_type": "execute_result"
    }
   ],
   "source": [
    "meannum(n1)"
   ]
  },
  {
   "cell_type": "code",
   "execution_count": 4,
   "metadata": {},
   "outputs": [
    {
     "ename": "SyntaxError",
     "evalue": "invalid syntax (<ipython-input-4-d3add41fe81c>, line 4)",
     "output_type": "error",
     "traceback": [
      "\u001b[0;36m  File \u001b[0;32m\"<ipython-input-4-d3add41fe81c>\"\u001b[0;36m, line \u001b[0;32m4\u001b[0m\n\u001b[0;31m    if(len(n1)%==0):\u001b[0m\n\u001b[0m              ^\u001b[0m\n\u001b[0;31mSyntaxError\u001b[0m\u001b[0;31m:\u001b[0m invalid syntax\n"
     ]
    }
   ],
   "source": [
    "def median_num(n1):\n",
    "    n1.sort()\n",
    "    i=0\n",
    "    if(len(n1)%==0):\n",
    "        mid=(len(n1)-1)//2\n",
    "        mid1=len(n1)//2\n",
    "        median=(n1[mid]+n1[mid1])//2\n",
    "        return median\n",
    "    else:\n",
    "        i=(len(n1)-1)//2\n",
    "        return n1[i]"
   ]
  },
  {
   "cell_type": "code",
   "execution_count": 5,
   "metadata": {},
   "outputs": [],
   "source": [
    "def median_num(n1):\n",
    "    n1.sort()\n",
    "    i=0\n",
    "    if(len(n1)%2==0):\n",
    "        mid=(len(n1)-1)//2\n",
    "        mid1=len(n1)//2\n",
    "        median=(n1[mid]+n1[mid1])//2\n",
    "        return median\n",
    "    else:\n",
    "        i=(len(n1)-1)//2\n",
    "        return n1[i]"
   ]
  },
  {
   "cell_type": "code",
   "execution_count": 6,
   "metadata": {},
   "outputs": [
    {
     "data": {
      "text/plain": [
       "56"
      ]
     },
     "execution_count": 6,
     "metadata": {},
     "output_type": "execute_result"
    }
   ],
   "source": [
    "median_num(n1)"
   ]
  },
  {
   "cell_type": "code",
   "execution_count": 7,
   "metadata": {},
   "outputs": [],
   "source": [
    "def normalization(lis):\n",
    "    min1=0\n",
    "    max1=0\n",
    "    min1=min(lis)\n",
    "    max1=max(lis)\n",
    "    res=0\n",
    "    for i in lis:\n",
    "        res=(i-min1)/(max1-min1)\n",
    "        print(\"normalization\"+ str(res))   "
   ]
  },
  {
   "cell_type": "code",
   "execution_count": 8,
   "metadata": {},
   "outputs": [
    {
     "name": "stdout",
     "output_type": "stream",
     "text": [
      "normalization0.0\n",
      "normalization0.16883116883116883\n",
      "normalization0.3116883116883117\n",
      "normalization0.5974025974025974\n",
      "normalization0.8831168831168831\n",
      "normalization1.0\n"
     ]
    }
   ],
   "source": [
    "normalization(n1)"
   ]
  },
  {
   "cell_type": "code",
   "execution_count": 9,
   "metadata": {},
   "outputs": [],
   "source": [
    "def mean(list):\n",
    "    total=0\n",
    "    for i in range(0,len(list)):\n",
    "        total+=list[i]\n",
    "    return int(total/2)\n",
    "def median(list):\n",
    "    for i in range(0,len(list)-1):  \n",
    "        for j in range(len(list)-1):  \n",
    "            if(list[j]>list[j+1]):  \n",
    "                temp = list[j]  \n",
    "                list[j] = list[j+1]  \n",
    "                list[j+1] = temp \n",
    "    return list[int(len(list)/2)]   \n",
    "def mode(list):\n",
    "    var= int(input(\"enter the number\"))\n",
    "    count=0\n",
    "    for i in range(0,len(list)-1):\n",
    "        if (var==list[i]):\n",
    "            count =count+1\n",
    "    return count        \n",
    "def calculate(list,var):\n",
    "    if (var==1):\n",
    "        return  mean(list)\n",
    "    elif (var==2):\n",
    "        return mode(list)\n",
    "    else:\n",
    "        return median(list)\n",
    "       \n",
    "       "
   ]
  },
  {
   "cell_type": "code",
   "execution_count": 10,
   "metadata": {},
   "outputs": [
    {
     "name": "stdout",
     "output_type": "stream",
     "text": [
      "1.mean 2 mode 3 median8\n",
      "6\n"
     ]
    }
   ],
   "source": [
    "list =[5,3,4,7,8,2,10,11,6,6,2]\n",
    "var =int(input(\"1.mean 2 mode 3 median\"))\n",
    "print(calculate(list,var))\n"
   ]
  },
  {
   "cell_type": "code",
   "execution_count": 11,
   "metadata": {},
   "outputs": [
    {
     "name": "stdout",
     "output_type": "stream",
     "text": [
      "1.mean 2 mode 3 median1\n",
      "32\n"
     ]
    }
   ],
   "source": [
    "list =[5,3,4,7,8,2,10,11,6,6,2]\n",
    "var =int(input(\"1.mean 2 mode 3 median\"))\n",
    "print(calculate(list,var))\n"
   ]
  },
  {
   "cell_type": "code",
   "execution_count": 12,
   "metadata": {},
   "outputs": [
    {
     "name": "stdout",
     "output_type": "stream",
     "text": [
      "1.mean 2 mode 3 median2\n",
      "enter the number2\n",
      "1\n"
     ]
    }
   ],
   "source": [
    "list =[5,3,4,7,8,2,10,11,6,6,2]\n",
    "var =int(input(\"1.mean 2 mode 3 median\"))\n",
    "print(calculate(list,var))\n"
   ]
  },
  {
   "cell_type": "code",
   "execution_count": null,
   "metadata": {},
   "outputs": [],
   "source": []
  }
 ],
 "metadata": {
  "kernelspec": {
   "display_name": "Python 3",
   "language": "python",
   "name": "python3"
  },
  "language_info": {
   "codemirror_mode": {
    "name": "ipython",
    "version": 3
   },
   "file_extension": ".py",
   "mimetype": "text/x-python",
   "name": "python",
   "nbconvert_exporter": "python",
   "pygments_lexer": "ipython3",
   "version": "3.8.5"
  }
 },
 "nbformat": 4,
 "nbformat_minor": 4
}
