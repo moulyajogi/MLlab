{
 "cells": [
  {
   "cell_type": "code",
   "execution_count": 2,
   "metadata": {},
   "outputs": [],
   "source": [
    "import numpy as np\n",
    "import pandas as pd\n",
    "import matplotlib.pyplot as plt\n",
    "import statistics as st\n",
    "import scipy.stats"
   ]
  },
  {
   "cell_type": "code",
   "execution_count": 3,
   "metadata": {},
   "outputs": [],
   "source": [
    "col_names = ['x','y']\n",
    "food = pd.read_csv(\"Food-Truck-LineReg.csv\", names=col_names)"
   ]
  },
  {
   "cell_type": "code",
   "execution_count": 4,
   "metadata": {},
   "outputs": [
    {
     "name": "stdout",
     "output_type": "stream",
     "text": [
      "          x         y\n",
      "0    6.1101  17.59200\n",
      "1    5.5277   9.13020\n",
      "2    8.5186  13.66200\n",
      "3    7.0032  11.85400\n",
      "4    5.8598   6.82330\n",
      "..      ...       ...\n",
      "92   5.8707   7.20290\n",
      "93   5.3054   1.98690\n",
      "94   8.2934   0.14454\n",
      "95  13.3940   9.05510\n",
      "96   5.4369   0.61705\n",
      "\n",
      "[97 rows x 2 columns]\n"
     ]
    }
   ],
   "source": [
    "print(food)"
   ]
  },
  {
   "cell_type": "code",
   "execution_count": 6,
   "metadata": {},
   "outputs": [
    {
     "name": "stdout",
     "output_type": "stream",
     "text": [
      "97\n"
     ]
    }
   ],
   "source": [
    "X=food['x'].values\n",
    "Y=food['y'].values\n",
    "\n",
    "n=np.size(X)\n",
    "print(n)"
   ]
  },
  {
   "cell_type": "code",
   "execution_count": 7,
   "metadata": {},
   "outputs": [
    {
     "name": "stdout",
     "output_type": "stream",
     "text": [
      "Mean of X: 8.159799999999999\n"
     ]
    }
   ],
   "source": [
    "m_x = np.mean(X)\n",
    "print('Mean of X:',m_x)"
   ]
  },
  {
   "cell_type": "code",
   "execution_count": 8,
   "metadata": {},
   "outputs": [
    {
     "name": "stdout",
     "output_type": "stream",
     "text": [
      "Mean of Y: 5.839135051546393\n"
     ]
    }
   ],
   "source": [
    "m_y = np.mean(Y)\n",
    "print('Mean of Y:',m_y)"
   ]
  },
  {
   "cell_type": "code",
   "execution_count": 9,
   "metadata": {},
   "outputs": [
    {
     "name": "stdout",
     "output_type": "stream",
     "text": [
      "Std dev of X 3.8698835278823314\n"
     ]
    }
   ],
   "source": [
    "Sx=st.stdev(X)\n",
    "print('Std dev of X',Sx)\n"
   ]
  },
  {
   "cell_type": "code",
   "execution_count": 10,
   "metadata": {},
   "outputs": [
    {
     "name": "stdout",
     "output_type": "stream",
     "text": [
      "Std dev of Y 5.510262255231544\n"
     ]
    }
   ],
   "source": [
    "Sy=st.stdev(Y)\n",
    "print('Std dev of Y',Sy)"
   ]
  },
  {
   "cell_type": "code",
   "execution_count": 11,
   "metadata": {},
   "outputs": [
    {
     "name": "stdout",
     "output_type": "stream",
     "text": [
      "Correlation Coefficient r: 0.8378732325263407\n"
     ]
    }
   ],
   "source": [
    "r=scipy.stats.pearsonr(X,Y)[0]\n",
    "print(\"Correlation Coefficient r:\",r)"
   ]
  },
  {
   "cell_type": "code",
   "execution_count": 12,
   "metadata": {},
   "outputs": [
    {
     "name": "stdout",
     "output_type": "stream",
     "text": [
      "Slope: 1.1930336441895937\n"
     ]
    }
   ],
   "source": [
    "m = r*(Sy/Sx)\n",
    "print(\"Slope:\",m)"
   ]
  },
  {
   "cell_type": "code",
   "execution_count": 13,
   "metadata": {},
   "outputs": [
    {
     "name": "stdout",
     "output_type": "stream",
     "text": [
      "Intercept: -3.895780878311852\n"
     ]
    }
   ],
   "source": [
    "c = m_y - (m*m_x)\n",
    "print('Intercept:',c)"
   ]
  },
  {
   "cell_type": "code",
   "execution_count": 14,
   "metadata": {},
   "outputs": [
    {
     "data": {
      "text/plain": [
       "array([ 3.39377399,  2.6989512 ,  6.26719552,  4.45927234,  3.09515767,\n",
       "        6.10530086,  5.02381586,  6.33818102,  3.84247394,  2.13452698,\n",
       "        2.91727635, 13.00234766,  2.94507404,  6.13572322,  2.833764  ,\n",
       "        2.52202431,  3.69835548,  2.22460102,  3.77494824,  4.53992141,\n",
       "        3.48802365, 20.28701109,  2.65409313,  3.65146926,  2.74333205,\n",
       "       18.70624151, 11.40845471,  9.17628876, 11.82363042, 22.59314512,\n",
       "        2.37050903,  3.96559502,  7.13763287,  3.13333475,  5.90033768,\n",
       "        5.56903223,  5.7629002 ,  2.79272364, 11.41799898,  3.68403908,\n",
       "        2.55483273,  4.31527318, 10.07225703,  2.99243747,  5.43934948,\n",
       "        4.56652606,  2.1531383 ,  3.02548451, 10.06271276,  2.71553436,\n",
       "        5.09993141,  2.43648379,  4.96118159,  5.17497322,  3.65946258,\n",
       "        3.69060076,  3.58955081,  2.83257096,  7.21160096,  7.38268198,\n",
       "        6.63321825,  2.28329828, 21.49078204, 13.88996469, 18.72294398,\n",
       "        4.71577457,  6.0005525 ,  8.3161115 ,  2.66518834, 20.37171648,\n",
       "        8.19680814,  4.85452438,  3.2698178 ,  4.72496093,  2.10147995,\n",
       "        3.91608412,  5.09802255,  2.11293307,  8.36144678,  2.19787707,\n",
       "        2.93934748,  2.29415488,  3.68678305,  7.75860688,  3.87790704,\n",
       "        6.26552528,  7.05650658,  3.26480705,  2.69024205,  2.14025354,\n",
       "        2.91369725,  5.21493985,  3.10816174,  2.43373982,  5.99852435,\n",
       "       12.08371175,  2.59062374])"
      ]
     },
     "execution_count": 14,
     "metadata": {},
     "output_type": "execute_result"
    }
   ],
   "source": [
    "y_pred = (m*X)+c\n",
    "y_pred"
   ]
  },
  {
   "cell_type": "code",
   "execution_count": 16,
   "metadata": {},
   "outputs": [
    {
     "data": {
      "image/png": "[encoded data removed]",
      "text/plain": [
       "<Figure size 432x288 with 1 Axes>"
      ]
     },
     "metadata": {
      "needs_background": "light"
     },
     "output_type": "display_data"
    }
   ],
   "source": [
    "plt.scatter(X, Y, color = \"b\", marker = \"o\", s = 30)\n",
    "plt.plot(X, y_pred, color = \"g\")\n",
    "plt.xlabel('x')\n",
    "plt.ylabel('y')\n",
    "plt.show()\n"
   ]
  },
  {
   "cell_type": "code",
   "execution_count": 17,
   "metadata": {},
   "outputs": [
    {
     "data": {
      "text/plain": [
       "array([14.19822601,  6.4312488 ,  7.39480448,  7.39472766,  3.72814233,\n",
       "        5.78069914, -0.67551586,  5.66181898,  2.75622606,  1.68207302,\n",
       "        0.33492365,  2.50265234,  0.21002596,  1.09007678, -2.117584  ,\n",
       "        0.99087569,  1.60644452, -1.66383102, -0.12314824,  0.84937859,\n",
       "       -0.34942365,  1.47998891,  1.60890687,  1.53603074,  0.33916795,\n",
       "        3.93175849,  2.09254529, -2.12958876,  2.86836958,  1.55385488,\n",
       "       -3.59050903,  2.03100498,  4.99636713, -1.28383475,  0.64226232,\n",
       "       -1.00673223, -1.6465002 ,  0.60007636, -1.30099898,  1.81336092,\n",
       "       -1.99826273, -0.40377318, -4.68685703, -0.55183747,  1.29245052,\n",
       "       -3.52022606,  2.9805617 , -1.18148451, -2.05841276, -1.69763436,\n",
       "        1.65046859, -0.59688379, -0.67268159, -0.17687322, -2.23616258,\n",
       "       -5.11170076, -1.11395081,  1.77162904, -3.24920096, -1.96858198,\n",
       "       -1.46381825, -3.02608828, -3.56178204, -1.83596469, -1.66894398,\n",
       "        0.16942543, -0.2563525 , -0.5407115 , -1.64788834,  0.62028352,\n",
       "       -1.51690814, -0.82862438, -1.9914178 , -1.38386093, -4.78217995,\n",
       "       -3.61930412, -1.21352255,  3.58846693, -1.60884678, -0.14027707,\n",
       "       -2.45981748, -2.08994488, -3.00817305, -0.21510688,  1.46569296,\n",
       "       -2.02402528, -0.25840658, -2.33785705, -2.53824205,  0.68114646,\n",
       "       -1.06859725, -0.91903985,  4.09473826, -0.44683982, -5.85398435,\n",
       "       -3.02861175, -1.97357374])"
      ]
     },
     "execution_count": 17,
     "metadata": {},
     "output_type": "execute_result"
    }
   ],
   "source": [
    "#cost(error)\n",
    "cost=Y-y_pred\n",
    "cost"
   ]
  },
  {
   "cell_type": "code",
   "execution_count": 18,
   "metadata": {},
   "outputs": [
    {
     "name": "stdout",
     "output_type": "stream",
     "text": [
      "SSE: 868.5324469391843\n"
     ]
    }
   ],
   "source": [
    "#SSE\n",
    "sse=sum((Y-y_pred)**2)\n",
    "print('SSE:',sse)"
   ]
  },
  {
   "cell_type": "code",
   "execution_count": 19,
   "metadata": {},
   "outputs": [
    {
     "name": "stdout",
     "output_type": "stream",
     "text": [
      "SSR: 2046.3146047180405\n"
     ]
    }
   ],
   "source": [
    "#SSR\n",
    "ssr=sum((y_pred-m_y)**2)\n",
    "print('SSR:',ssr)"
   ]
  },
  {
   "cell_type": "code",
   "execution_count": 20,
   "metadata": {},
   "outputs": [
    {
     "name": "stdout",
     "output_type": "stream",
     "text": [
      "SST: 2914.8470516572247\n"
     ]
    }
   ],
   "source": [
    "#SST\n",
    "sst=sum((Y-m_y)**2)\n",
    "print('SST:',sst)"
   ]
  },
  {
   "cell_type": "code",
   "execution_count": 21,
   "metadata": {},
   "outputs": [
    {
     "name": "stdout",
     "output_type": "stream",
     "text": [
      "R2: 0.7020315537841398\n"
     ]
    }
   ],
   "source": [
    "#R2\n",
    "R_2=ssr/sst\n",
    "print('R2:',R_2)"
   ]
  },
  {
   "cell_type": "code",
   "execution_count": null,
   "metadata": {},
   "outputs": [],
   "source": []
  }
 ],
 "metadata": {
  "kernelspec": {
   "display_name": "Python 3",
   "language": "python",
   "name": "python3"
  },
  "language_info": {
   "codemirror_mode": {
    "name": "ipython",
    "version": 3
   },
   "file_extension": ".py",
   "mimetype": "text/x-python",
   "name": "python",
   "nbconvert_exporter": "python",
   "pygments_lexer": "ipython3",
   "version": "3.7.3"
  }
 },
 "nbformat": 4,
 "nbformat_minor": 2
}
