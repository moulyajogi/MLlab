{
 "cells": [
  {
   "cell_type": "code",
   "execution_count": 2,
   "metadata": {},
   "outputs": [],
   "source": [
    "# b = b + alpha*(y - y')* y' * (1 - y') * x"
   ]
  },
  {
   "cell_type": "code",
   "execution_count": 3,
   "metadata": {},
   "outputs": [],
   "source": [
    "import pandas as pd"
   ]
  },
  {
   "cell_type": "code",
   "execution_count": 4,
   "metadata": {},
   "outputs": [
    {
     "data": {
      "text/html": [
       "<div>\n",
       "<style scoped>\n",
       "    .dataframe tbody tr th:only-of-type {\n",
       "        vertical-align: middle;\n",
       "    }\n",
       "\n",
       "    .dataframe tbody tr th {\n",
       "        vertical-align: top;\n",
       "    }\n",
       "\n",
       "    .dataframe thead th {\n",
       "        text-align: right;\n",
       "    }\n",
       "</style>\n",
       "<table border=\"1\" class=\"dataframe\">\n",
       "  <thead>\n",
       "    <tr style=\"text-align: right;\">\n",
       "      <th></th>\n",
       "      <th>x1</th>\n",
       "      <th>x2</th>\n",
       "      <th>y</th>\n",
       "    </tr>\n",
       "  </thead>\n",
       "  <tbody>\n",
       "    <tr>\n",
       "      <th>0</th>\n",
       "      <td>34.623660</td>\n",
       "      <td>78.024693</td>\n",
       "      <td>0</td>\n",
       "    </tr>\n",
       "    <tr>\n",
       "      <th>1</th>\n",
       "      <td>30.286711</td>\n",
       "      <td>43.894998</td>\n",
       "      <td>0</td>\n",
       "    </tr>\n",
       "    <tr>\n",
       "      <th>2</th>\n",
       "      <td>35.847409</td>\n",
       "      <td>72.902198</td>\n",
       "      <td>0</td>\n",
       "    </tr>\n",
       "    <tr>\n",
       "      <th>3</th>\n",
       "      <td>60.182599</td>\n",
       "      <td>86.308552</td>\n",
       "      <td>1</td>\n",
       "    </tr>\n",
       "    <tr>\n",
       "      <th>4</th>\n",
       "      <td>79.032736</td>\n",
       "      <td>75.344376</td>\n",
       "      <td>1</td>\n",
       "    </tr>\n",
       "    <tr>\n",
       "      <th>...</th>\n",
       "      <td>...</td>\n",
       "      <td>...</td>\n",
       "      <td>...</td>\n",
       "    </tr>\n",
       "    <tr>\n",
       "      <th>95</th>\n",
       "      <td>83.489163</td>\n",
       "      <td>48.380286</td>\n",
       "      <td>1</td>\n",
       "    </tr>\n",
       "    <tr>\n",
       "      <th>96</th>\n",
       "      <td>42.261701</td>\n",
       "      <td>87.103851</td>\n",
       "      <td>1</td>\n",
       "    </tr>\n",
       "    <tr>\n",
       "      <th>97</th>\n",
       "      <td>99.315009</td>\n",
       "      <td>68.775409</td>\n",
       "      <td>1</td>\n",
       "    </tr>\n",
       "    <tr>\n",
       "      <th>98</th>\n",
       "      <td>55.340018</td>\n",
       "      <td>64.931938</td>\n",
       "      <td>1</td>\n",
       "    </tr>\n",
       "    <tr>\n",
       "      <th>99</th>\n",
       "      <td>74.775893</td>\n",
       "      <td>89.529813</td>\n",
       "      <td>1</td>\n",
       "    </tr>\n",
       "  </tbody>\n",
       "</table>\n",
       "<p>100 rows × 3 columns</p>\n",
       "</div>"
      ],
      "text/plain": [
       "           x1         x2  y\n",
       "0   34.623660  78.024693  0\n",
       "1   30.286711  43.894998  0\n",
       "2   35.847409  72.902198  0\n",
       "3   60.182599  86.308552  1\n",
       "4   79.032736  75.344376  1\n",
       "..        ...        ... ..\n",
       "95  83.489163  48.380286  1\n",
       "96  42.261701  87.103851  1\n",
       "97  99.315009  68.775409  1\n",
       "98  55.340018  64.931938  1\n",
       "99  74.775893  89.529813  1\n",
       "\n",
       "[100 rows x 3 columns]"
      ]
     },
     "execution_count": 4,
     "metadata": {},
     "output_type": "execute_result"
    }
   ],
   "source": [
    "unidf = pd.read_csv(\"Student-University.csv\")\n",
    "unidf"
   ]
  },
  {
   "cell_type": "code",
   "execution_count": 5,
   "metadata": {},
   "outputs": [
    {
     "data": {
      "text/html": [
       "<div>\n",
       "<style scoped>\n",
       "    .dataframe tbody tr th:only-of-type {\n",
       "        vertical-align: middle;\n",
       "    }\n",
       "\n",
       "    .dataframe tbody tr th {\n",
       "        vertical-align: top;\n",
       "    }\n",
       "\n",
       "    .dataframe thead th {\n",
       "        text-align: right;\n",
       "    }\n",
       "</style>\n",
       "<table border=\"1\" class=\"dataframe\">\n",
       "  <thead>\n",
       "    <tr style=\"text-align: right;\">\n",
       "      <th></th>\n",
       "      <th>x1</th>\n",
       "      <th>x2</th>\n",
       "    </tr>\n",
       "  </thead>\n",
       "  <tbody>\n",
       "    <tr>\n",
       "      <th>0</th>\n",
       "      <td>34.623660</td>\n",
       "      <td>78.024693</td>\n",
       "    </tr>\n",
       "    <tr>\n",
       "      <th>1</th>\n",
       "      <td>30.286711</td>\n",
       "      <td>43.894998</td>\n",
       "    </tr>\n",
       "    <tr>\n",
       "      <th>2</th>\n",
       "      <td>35.847409</td>\n",
       "      <td>72.902198</td>\n",
       "    </tr>\n",
       "    <tr>\n",
       "      <th>3</th>\n",
       "      <td>60.182599</td>\n",
       "      <td>86.308552</td>\n",
       "    </tr>\n",
       "    <tr>\n",
       "      <th>4</th>\n",
       "      <td>79.032736</td>\n",
       "      <td>75.344376</td>\n",
       "    </tr>\n",
       "    <tr>\n",
       "      <th>...</th>\n",
       "      <td>...</td>\n",
       "      <td>...</td>\n",
       "    </tr>\n",
       "    <tr>\n",
       "      <th>95</th>\n",
       "      <td>83.489163</td>\n",
       "      <td>48.380286</td>\n",
       "    </tr>\n",
       "    <tr>\n",
       "      <th>96</th>\n",
       "      <td>42.261701</td>\n",
       "      <td>87.103851</td>\n",
       "    </tr>\n",
       "    <tr>\n",
       "      <th>97</th>\n",
       "      <td>99.315009</td>\n",
       "      <td>68.775409</td>\n",
       "    </tr>\n",
       "    <tr>\n",
       "      <th>98</th>\n",
       "      <td>55.340018</td>\n",
       "      <td>64.931938</td>\n",
       "    </tr>\n",
       "    <tr>\n",
       "      <th>99</th>\n",
       "      <td>74.775893</td>\n",
       "      <td>89.529813</td>\n",
       "    </tr>\n",
       "  </tbody>\n",
       "</table>\n",
       "<p>100 rows × 2 columns</p>\n",
       "</div>"
      ],
      "text/plain": [
       "           x1         x2\n",
       "0   34.623660  78.024693\n",
       "1   30.286711  43.894998\n",
       "2   35.847409  72.902198\n",
       "3   60.182599  86.308552\n",
       "4   79.032736  75.344376\n",
       "..        ...        ...\n",
       "95  83.489163  48.380286\n",
       "96  42.261701  87.103851\n",
       "97  99.315009  68.775409\n",
       "98  55.340018  64.931938\n",
       "99  74.775893  89.529813\n",
       "\n",
       "[100 rows x 2 columns]"
      ]
     },
     "execution_count": 5,
     "metadata": {},
     "output_type": "execute_result"
    }
   ],
   "source": [
    "X = unidf.iloc[:,:-1]\n",
    "X"
   ]
  },
  {
   "cell_type": "code",
   "execution_count": 6,
   "metadata": {},
   "outputs": [
    {
     "data": {
      "text/plain": [
       "0     0\n",
       "1     0\n",
       "2     0\n",
       "3     1\n",
       "4     1\n",
       "     ..\n",
       "95    1\n",
       "96    1\n",
       "97    1\n",
       "98    1\n",
       "99    1\n",
       "Name: y, Length: 100, dtype: int64"
      ]
     },
     "execution_count": 6,
     "metadata": {},
     "output_type": "execute_result"
    }
   ],
   "source": [
    "y = unidf.iloc[:,-1]\n",
    "y"
   ]
  },
  {
   "cell_type": "code",
   "execution_count": 7,
   "metadata": {},
   "outputs": [
    {
     "data": {
      "text/plain": [
       "(           x1         x2  y\n",
       " 3   60.182599  86.308552  1\n",
       " 4   79.032736  75.344376  1\n",
       " 6   61.106665  96.511426  1\n",
       " 7   75.024746  46.554014  1\n",
       " 8   76.098787  87.420570  1\n",
       " 9   84.432820  43.533393  1\n",
       " 12  82.307053  76.481963  1\n",
       " 13  69.364589  97.718692  1\n",
       " 15  53.971052  89.207350  1\n",
       " 16  69.070144  52.740470  1\n",
       " 18  70.661510  92.927138  1\n",
       " 19  76.978784  47.575964  1\n",
       " 21  89.676776  65.799366  1\n",
       " 24  77.924091  68.972360  1\n",
       " 25  62.271014  69.954458  1\n",
       " 26  80.190181  44.821629  1\n",
       " 30  61.379289  72.807887  1\n",
       " 31  85.404519  57.051984  1\n",
       " 33  52.045405  69.432860  1\n",
       " 37  64.176989  80.908061  1\n",
       " 40  83.902394  56.308046  1\n",
       " 42  94.443368  65.568922  1\n",
       " 46  77.193035  70.458200  1\n",
       " 47  97.771599  86.727822  1\n",
       " 48  62.073064  96.768824  1\n",
       " 49  91.564975  88.696293  1\n",
       " 50  79.944818  74.163119  1\n",
       " 51  99.272527  60.999031  1\n",
       " 52  90.546714  43.390602  1\n",
       " 56  97.645634  68.861573  1\n",
       " 58  74.248691  69.824571  1\n",
       " 59  71.796462  78.453562  1\n",
       " 60  75.395611  85.759937  1\n",
       " 66  40.457551  97.535185  1\n",
       " 68  80.279574  92.116061  1\n",
       " 69  66.746719  60.991394  1\n",
       " 71  64.039320  78.031688  1\n",
       " 72  72.346494  96.227593  1\n",
       " 73  60.457886  73.094998  1\n",
       " 74  58.840956  75.858448  1\n",
       " 75  99.827858  72.369252  1\n",
       " 76  47.264269  88.475865  1\n",
       " 77  50.458160  75.809860  1\n",
       " 80  88.913896  69.803789  1\n",
       " 81  94.834507  45.694307  1\n",
       " 82  67.319257  66.589353  1\n",
       " 83  57.238706  59.514282  1\n",
       " 84  80.366756  90.960148  1\n",
       " 85  68.468522  85.594307  1\n",
       " 87  75.477702  90.424539  1\n",
       " 88  78.635424  96.647427  1\n",
       " 90  94.094331  77.159105  1\n",
       " 91  90.448551  87.508792  1\n",
       " 93  74.492692  84.845137  1\n",
       " 94  89.845807  45.358284  1\n",
       " 95  83.489163  48.380286  1\n",
       " 96  42.261701  87.103851  1\n",
       " 97  99.315009  68.775409  1\n",
       " 98  55.340018  64.931938  1\n",
       " 99  74.775893  89.529813  1,            x1         x2  y\n",
       " 0   34.623660  78.024693  0\n",
       " 1   30.286711  43.894998  0\n",
       " 2   35.847409  72.902198  0\n",
       " 5   45.083277  56.316372  0\n",
       " 10  95.861555  38.225278  0\n",
       " 11  75.013658  30.603263  0\n",
       " 14  39.538339  76.036811  0\n",
       " 17  67.946855  46.678574  0\n",
       " 20  67.372028  42.838438  0\n",
       " 22  50.534788  48.855812  0\n",
       " 23  34.212061  44.209529  0\n",
       " 27  93.114389  38.800670  0\n",
       " 28  61.830206  50.256108  0\n",
       " 29  38.785804  64.995681  0\n",
       " 32  52.107980  63.127624  0\n",
       " 34  40.236894  71.167748  0\n",
       " 35  54.635106  52.213886  0\n",
       " 36  33.915500  98.869436  0\n",
       " 38  74.789253  41.573415  0\n",
       " 39  34.183640  75.237720  0\n",
       " 41  51.547720  46.856290  0\n",
       " 43  82.368754  40.618255  0\n",
       " 44  51.047752  45.822701  0\n",
       " 45  62.222676  52.060992  0\n",
       " 53  34.524514  60.396342  0\n",
       " 54  50.286496  49.804539  0\n",
       " 55  49.586677  59.808951  0\n",
       " 57  32.577200  95.598548  0\n",
       " 61  35.286113  47.020514  0\n",
       " 62  56.253817  39.261473  0\n",
       " 63  30.058822  49.592974  0\n",
       " 64  44.668262  66.450086  0\n",
       " 65  66.560894  41.092098  0\n",
       " 67  49.072563  51.883212  0\n",
       " 70  32.722833  43.307173  0\n",
       " 78  60.455556  42.508409  0\n",
       " 79  82.226662  42.719879  0\n",
       " 86  42.075455  78.844786  0\n",
       " 89  52.348004  60.769505  0\n",
       " 92  55.482161  35.570703  0)"
      ]
     },
     "execution_count": 7,
     "metadata": {},
     "output_type": "execute_result"
    }
   ],
   "source": [
    "admitted = unidf.loc[y==1]\n",
    "not_admitted = unidf.loc[y==0]\n",
    "\n",
    "admitted, not_admitted"
   ]
  },
  {
   "cell_type": "code",
   "execution_count": 8,
   "metadata": {},
   "outputs": [],
   "source": [
    "import matplotlib.pyplot as plt"
   ]
  },
  {
   "cell_type": "code",
   "execution_count": 10,
   "metadata": {},
   "outputs": [
    {
     "data": {
      "image/png": "[encoded data removed]",
      "text/plain": [
       "<Figure size 432x288 with 1 Axes>"
      ]
     },
     "metadata": {
      "needs_background": "light"
     },
     "output_type": "display_data"
    }
   ],
   "source": [
    "plt.scatter(admitted.iloc[:,0], admitted.iloc[:,1],s=10,label=\"Admitted\")\n",
    "plt.scatter(not_admitted.iloc[:,0], not_admitted.iloc[:,1],s=10,label=\"Not Admitted\")\n",
    "plt.xlabel(\"Marks in first exam\")\n",
    "plt.ylabel(\"Marks in second exam\")\n",
    "plt.show()"
   ]
  },
  {
   "cell_type": "code",
   "execution_count": 20,
   "metadata": {},
   "outputs": [],
   "source": [
    "import numpy as np\n",
    "from sklearn.model_selection import train_test_split"
   ]
  },
  {
   "cell_type": "code",
   "execution_count": 21,
   "metadata": {},
   "outputs": [],
   "source": [
    "x_train, x_test, y_train, y_test = train_test_split(X, y, test_size=0.2, random_state=42)"
   ]
  },
  {
   "cell_type": "code",
   "execution_count": 22,
   "metadata": {},
   "outputs": [
    {
     "data": {
      "text/html": [
       "<div>\n",
       "<style scoped>\n",
       "    .dataframe tbody tr th:only-of-type {\n",
       "        vertical-align: middle;\n",
       "    }\n",
       "\n",
       "    .dataframe tbody tr th {\n",
       "        vertical-align: top;\n",
       "    }\n",
       "\n",
       "    .dataframe thead th {\n",
       "        text-align: right;\n",
       "    }\n",
       "</style>\n",
       "<table border=\"1\" class=\"dataframe\">\n",
       "  <thead>\n",
       "    <tr style=\"text-align: right;\">\n",
       "      <th></th>\n",
       "      <th>x1</th>\n",
       "      <th>x2</th>\n",
       "    </tr>\n",
       "  </thead>\n",
       "  <tbody>\n",
       "    <tr>\n",
       "      <th>55</th>\n",
       "      <td>49.586677</td>\n",
       "      <td>59.808951</td>\n",
       "    </tr>\n",
       "    <tr>\n",
       "      <th>88</th>\n",
       "      <td>78.635424</td>\n",
       "      <td>96.647427</td>\n",
       "    </tr>\n",
       "    <tr>\n",
       "      <th>26</th>\n",
       "      <td>80.190181</td>\n",
       "      <td>44.821629</td>\n",
       "    </tr>\n",
       "    <tr>\n",
       "      <th>42</th>\n",
       "      <td>94.443368</td>\n",
       "      <td>65.568922</td>\n",
       "    </tr>\n",
       "    <tr>\n",
       "      <th>69</th>\n",
       "      <td>66.746719</td>\n",
       "      <td>60.991394</td>\n",
       "    </tr>\n",
       "    <tr>\n",
       "      <th>...</th>\n",
       "      <td>...</td>\n",
       "      <td>...</td>\n",
       "    </tr>\n",
       "    <tr>\n",
       "      <th>60</th>\n",
       "      <td>75.395611</td>\n",
       "      <td>85.759937</td>\n",
       "    </tr>\n",
       "    <tr>\n",
       "      <th>71</th>\n",
       "      <td>64.039320</td>\n",
       "      <td>78.031688</td>\n",
       "    </tr>\n",
       "    <tr>\n",
       "      <th>14</th>\n",
       "      <td>39.538339</td>\n",
       "      <td>76.036811</td>\n",
       "    </tr>\n",
       "    <tr>\n",
       "      <th>92</th>\n",
       "      <td>55.482161</td>\n",
       "      <td>35.570703</td>\n",
       "    </tr>\n",
       "    <tr>\n",
       "      <th>51</th>\n",
       "      <td>99.272527</td>\n",
       "      <td>60.999031</td>\n",
       "    </tr>\n",
       "  </tbody>\n",
       "</table>\n",
       "<p>80 rows × 2 columns</p>\n",
       "</div>"
      ],
      "text/plain": [
       "           x1         x2\n",
       "55  49.586677  59.808951\n",
       "88  78.635424  96.647427\n",
       "26  80.190181  44.821629\n",
       "42  94.443368  65.568922\n",
       "69  66.746719  60.991394\n",
       "..        ...        ...\n",
       "60  75.395611  85.759937\n",
       "71  64.039320  78.031688\n",
       "14  39.538339  76.036811\n",
       "92  55.482161  35.570703\n",
       "51  99.272527  60.999031\n",
       "\n",
       "[80 rows x 2 columns]"
      ]
     },
     "execution_count": 22,
     "metadata": {},
     "output_type": "execute_result"
    }
   ],
   "source": [
    "y_train = y_train.tolist()\n",
    "x_train"
   ]
  },
  {
   "cell_type": "code",
   "execution_count": 23,
   "metadata": {},
   "outputs": [
    {
     "data": {
      "text/plain": [
       "[49.58667722,\n",
       " 78.63542435,\n",
       " 80.19018075,\n",
       " 94.44336777,\n",
       " 66.74671857,\n",
       " 53.97105215,\n",
       " 83.90239366,\n",
       " 42.26170081,\n",
       " 84.43281996,\n",
       " 72.34649423,\n",
       " 75.01365839,\n",
       " 97.77159928,\n",
       " 68.46852179,\n",
       " 61.83020602,\n",
       " 74.49269242,\n",
       " 45.08327748,\n",
       " 40.45755098,\n",
       " 66.56089447,\n",
       " 54.63510555,\n",
       " 69.07014406,\n",
       " 91.5649745,\n",
       " 40.23689374,\n",
       " 75.02474557,\n",
       " 83.48916274,\n",
       " 93.1143888,\n",
       " 76.97878373,\n",
       " 94.83450672,\n",
       " 62.27101367,\n",
       " 56.2538175,\n",
       " 69.36458876,\n",
       " 77.92409145,\n",
       " 60.18259939,\n",
       " 67.94685548,\n",
       " 74.78925296,\n",
       " 76.0987867,\n",
       " 60.45555629,\n",
       " 61.10666454,\n",
       " 44.66826172,\n",
       " 33.91550011,\n",
       " 52.34800399,\n",
       " 97.64563396,\n",
       " 74.775893,\n",
       " 50.28649612,\n",
       " 82.36875376,\n",
       " 79.94481794,\n",
       " 49.07256322,\n",
       " 77.19303493,\n",
       " 80.27957401,\n",
       " 35.28611282,\n",
       " 99.31500881,\n",
       " 82.22666158,\n",
       " 51.54772027,\n",
       " 74.24869137,\n",
       " 62.0730638,\n",
       " 55.34001756,\n",
       " 32.57720017,\n",
       " 99.8278578,\n",
       " 52.10797973,\n",
       " 89.84580671,\n",
       " 71.79646206,\n",
       " 30.05882245,\n",
       " 80.366756,\n",
       " 64.17698887,\n",
       " 38.7858038,\n",
       " 30.28671077,\n",
       " 90.54671411,\n",
       " 89.67677575,\n",
       " 35.84740877,\n",
       " 34.21206098,\n",
       " 75.47770201,\n",
       " 90.44855097,\n",
       " 58.84095622,\n",
       " 42.07545454,\n",
       " 67.31925747,\n",
       " 67.37202755,\n",
       " 75.39561147,\n",
       " 64.03932042,\n",
       " 39.53833914,\n",
       " 55.48216114,\n",
       " 99.27252693]"
      ]
     },
     "execution_count": 23,
     "metadata": {},
     "output_type": "execute_result"
    }
   ],
   "source": [
    "x_train_x1 = x_train.iloc[:,0].tolist()\n",
    "x_train_x1"
   ]
  },
  {
   "cell_type": "code",
   "execution_count": 24,
   "metadata": {},
   "outputs": [
    {
     "data": {
      "text/plain": [
       "[59.80895099,\n",
       " 96.64742717,\n",
       " 44.82162893,\n",
       " 65.56892161,\n",
       " 60.99139403,\n",
       " 89.20735014,\n",
       " 56.30804622,\n",
       " 87.10385094,\n",
       " 43.53339331,\n",
       " 96.22759297,\n",
       " 30.60326323,\n",
       " 86.72782233,\n",
       " 85.5943071,\n",
       " 50.25610789,\n",
       " 84.84513685,\n",
       " 56.31637178,\n",
       " 97.53518549,\n",
       " 41.09209808,\n",
       " 52.21388588,\n",
       " 52.74046973,\n",
       " 88.69629255,\n",
       " 71.16774802,\n",
       " 46.55401354,\n",
       " 48.3802858,\n",
       " 38.80067034,\n",
       " 47.57596365,\n",
       " 45.6943068,\n",
       " 69.95445795,\n",
       " 39.26147251,\n",
       " 97.71869196,\n",
       " 68.97235999,\n",
       " 86.3085521,\n",
       " 46.67857411,\n",
       " 41.57341523,\n",
       " 87.42056972,\n",
       " 42.50840944,\n",
       " 96.51142588,\n",
       " 66.45008615,\n",
       " 98.86943574,\n",
       " 60.76950526,\n",
       " 68.86157272,\n",
       " 89.5298129,\n",
       " 49.80453881,\n",
       " 40.61825516,\n",
       " 74.16311935,\n",
       " 51.88321182,\n",
       " 70.4582,\n",
       " 92.11606081,\n",
       " 47.02051395,\n",
       " 68.77540947,\n",
       " 42.71987854,\n",
       " 46.85629026,\n",
       " 69.82457123,\n",
       " 96.76882412,\n",
       " 64.93193801,\n",
       " 95.59854761,\n",
       " 72.36925193,\n",
       " 63.12762377,\n",
       " 45.35828361,\n",
       " 78.45356225,\n",
       " 49.59297387,\n",
       " 90.9601479,\n",
       " 80.90806059,\n",
       " 64.99568096,\n",
       " 43.89499752,\n",
       " 43.39060181,\n",
       " 65.79936593,\n",
       " 72.90219803,\n",
       " 44.2095286,\n",
       " 90.424539,\n",
       " 87.50879176,\n",
       " 75.85844831,\n",
       " 78.844786,\n",
       " 66.58935318,\n",
       " 42.83843832,\n",
       " 85.75993667,\n",
       " 78.03168802,\n",
       " 76.03681085,\n",
       " 35.57070347,\n",
       " 60.999031]"
      ]
     },
     "execution_count": 24,
     "metadata": {},
     "output_type": "execute_result"
    }
   ],
   "source": [
    "x_train_x2 = x_train.iloc[:,1].tolist()\n",
    "x_train_x2"
   ]
  },
  {
   "cell_type": "code",
   "execution_count": 25,
   "metadata": {},
   "outputs": [
    {
     "name": "stdout",
     "output_type": "stream",
     "text": [
      "Enter epochs: 10000\n",
      "Enter learning rate: 0.01\n"
     ]
    }
   ],
   "source": [
    "b0 = 0.0\n",
    "b1 = 0.0\n",
    "b2 = 0.0\n",
    "epochs = int(input(\"Enter epochs: \"))\n",
    "alpha = float(input(\"Enter learning rate: \"))\n",
    "for epoch in range(epochs):\n",
    "    for i in range(len(x_train_x1)):\n",
    "        eq = b0 + b1*x_train_x1[i] + b2*x_train_x2[i]\n",
    "        y_pred = 1/(1+np.exp(-eq))\n",
    "        # print(np.round(y_pred))\n",
    "        b0 = b0 + alpha * (y_train[i] - y_pred) * y_pred * (1 - y_pred)*1\n",
    "        b1 = b1 + alpha * (y_train[i] - y_pred) * y_pred * (1 - y_pred) * x_train_x1[i]\n",
    "        b2 = b2 + alpha * (y_train[i] - y_pred) * y_pred * (1 - y_pred) * x_train_x2[i]"
   ]
  },
  {
   "cell_type": "code",
   "execution_count": 26,
   "metadata": {},
   "outputs": [
    {
     "data": {
      "text/plain": [
       "(-0.04198660642273456, 1.1792220151807749, -0.4482157154383673)"
      ]
     },
     "execution_count": 26,
     "metadata": {},
     "output_type": "execute_result"
    }
   ],
   "source": [
    "b0, b1, b2   "
   ]
  },
  {
   "cell_type": "code",
   "execution_count": 27,
   "metadata": {},
   "outputs": [
    {
     "data": {
      "text/plain": [
       "[59.51428198,\n",
       " 60.39634246,\n",
       " 43.30717306,\n",
       " 52.06099195,\n",
       " 45.82270146,\n",
       " 75.23772034,\n",
       " 48.85581153,\n",
       " 69.8037889,\n",
       " 38.22527806,\n",
       " 78.02469282,\n",
       " 92.92713789,\n",
       " 72.80788731,\n",
       " 73.0949981,\n",
       " 69.43286012,\n",
       " 77.15910509,\n",
       " 75.34437644,\n",
       " 88.475865,\n",
       " 75.80985953,\n",
       " 76.4819633,\n",
       " 57.05198398]"
      ]
     },
     "execution_count": 27,
     "metadata": {},
     "output_type": "execute_result"
    }
   ],
   "source": [
    "x_test_x1 = x_test.iloc[:,0].tolist()\n",
    "x_test_x2 = x_test.iloc[:,1].tolist()\n",
    "y_test = y_test.tolist()\n",
    "x_test_x2"
   ]
  },
  {
   "cell_type": "code",
   "execution_count": 28,
   "metadata": {},
   "outputs": [
    {
     "name": "stdout",
     "output_type": "stream",
     "text": [
      "-0.04198660642273456 1.1792220151807749 -0.4482157154383673\n",
      "[1, 0, 0, 0, 0, 0, 0, 1, 0, 0, 1, 1, 1, 1, 1, 1, 1, 1, 1, 1] [1.0, 1.0, 1.0, 1.0, 1.0, 1.0, 1.0, 1.0, 1.0, 1.0, 1.0, 1.0, 1.0, 1.0, 1.0, 1.0, 1.0, 1.0, 1.0, 1.0]\n"
     ]
    }
   ],
   "source": [
    "pred_column = []\n",
    "print(b0,b1,b2)\n",
    "for i in range(len(x_test_x1)):\n",
    "    eq = b0 + b1*x_test_x1[i] + b2*x_test_x2[i]\n",
    "    y_pred = np.round(1/(1+np.exp(-eq)))\n",
    "    '''print(eq, y_pred)\n",
    "    if(y_pred<0.5):\n",
    "        y_pred=0\n",
    "    else:\n",
    "        y_pred=1'''\n",
    "    pred_column.append(y_pred)\n",
    "    \n",
    "print(y_test, pred_column)"
   ]
  },
  {
   "cell_type": "code",
   "execution_count": 29,
   "metadata": {},
   "outputs": [
    {
     "name": "stdout",
     "output_type": "stream",
     "text": [
      "0.6\n"
     ]
    }
   ],
   "source": [
    "from sklearn.metrics import accuracy_score\n",
    "\n",
    "print(accuracy_score(y_test, pred_column))"
   ]
  },
  {
   "cell_type": "code",
   "execution_count": null,
   "metadata": {},
   "outputs": [],
   "source": []
  }
 ],
 "metadata": {
  "kernelspec": {
   "display_name": "Python 3",
   "language": "python",
   "name": "python3"
  },
  "language_info": {
   "codemirror_mode": {
    "name": "ipython",
    "version": 3
   },
   "file_extension": ".py",
   "mimetype": "text/x-python",
   "name": "python",
   "nbconvert_exporter": "python",
   "pygments_lexer": "ipython3",
   "version": "3.7.3"
  }
 },
 "nbformat": 4,
 "nbformat_minor": 2
}
